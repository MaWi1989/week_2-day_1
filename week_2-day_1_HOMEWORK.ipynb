{
 "cells": [
  {
   "cell_type": "markdown",
   "metadata": {},
   "source": [
    "# Week 2 - Monday Lesson (variable assignment, loops, lists)"
   ]
  },
  {
   "cell_type": "markdown",
   "metadata": {},
   "source": [
    "## Tasks Today:\n",
    "\n",
    "1) Int & Float assignments <br>\n",
    " &nbsp;&nbsp;&nbsp;&nbsp; a) Assigning int <br>\n",
    " &nbsp;&nbsp;&nbsp;&nbsp; b) Assigning float <br>\n",
    " &nbsp;&nbsp;&nbsp;&nbsp; c) Performing Calculations on ints and floats <br>\n",
    " &nbsp;&nbsp;&nbsp;&nbsp;&nbsp;&nbsp;&nbsp;&nbsp; - Addition <br>\n",
    " &nbsp;&nbsp;&nbsp;&nbsp;&nbsp;&nbsp;&nbsp;&nbsp; - Subtraction <br>\n",
    " &nbsp;&nbsp;&nbsp;&nbsp;&nbsp;&nbsp;&nbsp;&nbsp; - Multiplication <br>\n",
    " &nbsp;&nbsp;&nbsp;&nbsp;&nbsp;&nbsp;&nbsp;&nbsp; - Division <br>\n",
    " &nbsp;&nbsp;&nbsp;&nbsp;&nbsp;&nbsp;&nbsp;&nbsp; - Floor Division <br>\n",
    " &nbsp;&nbsp;&nbsp;&nbsp;&nbsp;&nbsp;&nbsp;&nbsp; - Modulo <br>\n",
    " &nbsp;&nbsp;&nbsp;&nbsp;&nbsp;&nbsp;&nbsp;&nbsp; - Exponential <br>\n",
    "2) String Input-Output <br>\n",
    " &nbsp;&nbsp;&nbsp;&nbsp; a) String Assignment <br>\n",
    " &nbsp;&nbsp;&nbsp;&nbsp; b) print() <br>\n",
    " &nbsp;&nbsp;&nbsp;&nbsp; c) String Concatenation <br>\n",
    " &nbsp;&nbsp;&nbsp;&nbsp; d) Type Conversion <br>\n",
    " &nbsp;&nbsp;&nbsp;&nbsp; e) input() <br>\n",
    " &nbsp;&nbsp;&nbsp;&nbsp; f) format() <br>\n",
    " &nbsp;&nbsp;&nbsp;&nbsp; g) Old Way (python 2) <br>\n",
    "3) <b>In-Class Exercise #1</b> <br>\n",
    "4) If Statements <br>\n",
    " &nbsp;&nbsp;&nbsp;&nbsp; a) 'is' keyword <br>\n",
    " &nbsp;&nbsp;&nbsp;&nbsp; b) 'in' keyword <br>\n",
    " &nbsp;&nbsp;&nbsp;&nbsp; c) 'not in' keyword <br>\n",
    "5) <b>In-Class Exercise #2</b> <br>\n",
    "6) Elif Statements <br>\n",
    "7) Else Statements <br>\n",
    "8) <b>In-Class Exercise #3</b> <br>\n",
    "9) Built-In Functions <br>\n",
    "\n",
    " &nbsp;&nbsp;&nbsp;&nbsp; b) len() <br>\n",
    " &nbsp;&nbsp;&nbsp;&nbsp; c) help() <br>\n",
    " &nbsp;&nbsp;&nbsp;&nbsp; d) isinstance() <br>\n",
    " &nbsp;&nbsp;&nbsp;&nbsp; e) abs() <br>\n",
    "10) Try and Except <br>\n"
   ]
  },
  {
   "cell_type": "markdown",
   "metadata": {},
   "source": [
    "### Int & Float Assignments"
   ]
  },
  {
   "cell_type": "markdown",
   "metadata": {},
   "source": [
    "##### Assigning int"
   ]
  },
  {
   "cell_type": "code",
   "execution_count": 19,
   "metadata": {},
   "outputs": [
    {
     "name": "stdout",
     "output_type": "stream",
     "text": [
      "11\n"
     ]
    }
   ],
   "source": [
    "number = 6\n",
    "print(number)"
   ]
  },
  {
   "cell_type": "markdown",
   "metadata": {},
   "source": [
    "##### Assigning float"
   ]
  },
  {
   "cell_type": "code",
   "execution_count": 20,
   "metadata": {},
   "outputs": [
    {
     "name": "stdout",
     "output_type": "stream",
     "text": [
      "3.14\n"
     ]
    }
   ],
   "source": [
    "## float == decimal\n",
    "num_float = 3.14\n",
    "print(num_float)"
   ]
  },
  {
   "cell_type": "markdown",
   "metadata": {},
   "source": [
    "#### Performing Calculations on ints and floats"
   ]
  },
  {
   "cell_type": "markdown",
   "metadata": {},
   "source": [
    "##### Addition"
   ]
  },
  {
   "cell_type": "code",
   "execution_count": 21,
   "metadata": {},
   "outputs": [
    {
     "name": "stdout",
     "output_type": "stream",
     "text": [
      "11\n"
     ]
    }
   ],
   "source": [
    "num1 = 3\n",
    "num2 = 7\n",
    "\n",
    "result = num1 + num2\n",
    "result += 1\n",
    "print(result)"
   ]
  },
  {
   "cell_type": "markdown",
   "metadata": {},
   "source": [
    "##### Subtraction"
   ]
  },
  {
   "cell_type": "code",
   "execution_count": 22,
   "metadata": {},
   "outputs": [
    {
     "name": "stdout",
     "output_type": "stream",
     "text": [
      "1\n"
     ]
    }
   ],
   "source": [
    "difference = num2 - num1 \n",
    "#              7  -  3   =   4\n",
    "difference -= num1\n",
    "print(difference)"
   ]
  },
  {
   "cell_type": "markdown",
   "metadata": {},
   "source": [
    "##### Multiplication"
   ]
  },
  {
   "cell_type": "code",
   "execution_count": 23,
   "metadata": {},
   "outputs": [
    {
     "name": "stdout",
     "output_type": "stream",
     "text": [
      "94.0\n"
     ]
    }
   ],
   "source": [
    "num1 = 10\n",
    "num2 = 4.7\n",
    "\n",
    "product = num1 * num2\n",
    "product *= 2\n",
    "print(product)"
   ]
  },
  {
   "cell_type": "markdown",
   "metadata": {},
   "source": [
    "##### Division"
   ]
  },
  {
   "cell_type": "code",
   "execution_count": 24,
   "metadata": {},
   "outputs": [
    {
     "name": "stdout",
     "output_type": "stream",
     "text": [
      "5.0\n"
     ]
    }
   ],
   "source": [
    "num1 = 45\n",
    "num2 = 9\n",
    "\n",
    "result_div = num1 / num2\n",
    "print(result_div)"
   ]
  },
  {
   "cell_type": "markdown",
   "metadata": {},
   "source": [
    "##### Floor Division"
   ]
  },
  {
   "cell_type": "code",
   "execution_count": 25,
   "metadata": {},
   "outputs": [
    {
     "name": "stdout",
     "output_type": "stream",
     "text": [
      "3\n"
     ]
    }
   ],
   "source": [
    "num1 = 100\n",
    "num2 = 26\n",
    "\n",
    "result_floor = num1 // num2\n",
    "print(result_floor)"
   ]
  },
  {
   "cell_type": "markdown",
   "metadata": {},
   "source": [
    "##### Modulo"
   ]
  },
  {
   "cell_type": "code",
   "execution_count": 26,
   "metadata": {},
   "outputs": [
    {
     "name": "stdout",
     "output_type": "stream",
     "text": [
      "1\n",
      "even\n",
      "1\n"
     ]
    }
   ],
   "source": [
    "num1 = 5\n",
    "num2 = 2\n",
    "\n",
    "result_mod = num1 % num2\n",
    "print(result_mod)\n",
    "\n",
    "if num2 % 2 == 0:\n",
    "    print(\"even\")\n",
    "else:\n",
    "    print('odd')\n",
    "    \n",
    "#shorthand \n",
    "result_mod %= num2\n",
    "print(result_mod)"
   ]
  },
  {
   "cell_type": "markdown",
   "metadata": {},
   "source": [
    "##### Exponential"
   ]
  },
  {
   "cell_type": "code",
   "execution_count": 27,
   "metadata": {},
   "outputs": [
    {
     "name": "stdout",
     "output_type": "stream",
     "text": [
      "25\n",
      "625\n"
     ]
    }
   ],
   "source": [
    "square = 5 ** 2\n",
    "print(square)\n",
    "\n",
    "square **= 2\n",
    "\n",
    "print(square)"
   ]
  },
  {
   "cell_type": "markdown",
   "metadata": {},
   "source": [
    "### String Input-Output"
   ]
  },
  {
   "cell_type": "markdown",
   "metadata": {},
   "source": [
    "##### String Assignment"
   ]
  },
  {
   "cell_type": "code",
   "execution_count": 28,
   "metadata": {},
   "outputs": [
    {
     "name": "stdout",
     "output_type": "stream",
     "text": [
      "Ryan\n"
     ]
    }
   ],
   "source": [
    "name = \"Ryan\"\n",
    "print(name)"
   ]
  },
  {
   "cell_type": "markdown",
   "metadata": {},
   "source": [
    "##### print() <br>\n",
    "<p>Don't forget about end=' '</p>"
   ]
  },
  {
   "cell_type": "code",
   "execution_count": 29,
   "metadata": {},
   "outputs": [
    {
     "name": "stdout",
     "output_type": "stream",
     "text": [
      "This is my first name:  Ryan\n",
      "Full name:  Ryan Rhoades"
     ]
    }
   ],
   "source": [
    "print(\"This is my first name: \", name)\n",
    "\n",
    "print(\"Full name: \", name, end=\" Rhoades\")"
   ]
  },
  {
   "cell_type": "markdown",
   "metadata": {},
   "source": [
    "##### String Concatenation"
   ]
  },
  {
   "cell_type": "code",
   "execution_count": 32,
   "metadata": {},
   "outputs": [
    {
     "name": "stdout",
     "output_type": "stream",
     "text": [
      "luke skywalker\n",
      "luke skywalker jedi master\n"
     ]
    }
   ],
   "source": [
    "first_name = 'luke' \n",
    "last_name = 'skywalker'\n",
    "\n",
    "full_name = first_name + ' ' + last_name \n",
    "print(full_name)\n",
    "\n",
    "full_name += ' jedi master'\n",
    "print(full_name)"
   ]
  },
  {
   "cell_type": "markdown",
   "metadata": {},
   "source": [
    "##### Type Conversion"
   ]
  },
  {
   "cell_type": "code",
   "execution_count": null,
   "metadata": {},
   "outputs": [],
   "source": [
    "# int() - convert type into int \n",
    "# float() - convert to float type \n",
    "# str() - convert to string type \n",
    "\n",
    "# not every string can be made into an int or a float, but every float or int can be made into a str"
   ]
  },
  {
   "cell_type": "markdown",
   "metadata": {},
   "source": [
    "##### input()"
   ]
  },
  {
   "cell_type": "code",
   "execution_count": 33,
   "metadata": {},
   "outputs": [
    {
     "name": "stdout",
     "output_type": "stream",
     "text": [
      "how old are you?33\n",
      "your age is  33\n",
      "34\n"
     ]
    }
   ],
   "source": [
    "# input will always return a string\n",
    "\n",
    "age = int(input(\"how old are you?\"))\n",
    "\n",
    "print(\"your age is \", age)\n",
    "\n",
    "age += 1\n",
    "\n",
    "print(age)\n",
    "\n"
   ]
  },
  {
   "cell_type": "code",
   "execution_count": 34,
   "metadata": {},
   "outputs": [
    {
     "name": "stdout",
     "output_type": "stream",
     "text": [
      "what is your name?manja\n",
      "Your name is manja\n",
      "What is your favorite color?blue....no, pink\n",
      "Your favorite color is  blue....no, pink\n"
     ]
    }
   ],
   "source": [
    "name = input(\"what is your name?\")\n",
    "print('Your name is', name)\n",
    "\n",
    "color = input('What is your favorite color?')\n",
    "print('Your favorite color is ', color)\n",
    "\n"
   ]
  },
  {
   "cell_type": "markdown",
   "metadata": {},
   "source": [
    "##### format()"
   ]
  },
  {
   "cell_type": "code",
   "execution_count": 37,
   "metadata": {},
   "outputs": [
    {
     "name": "stdout",
     "output_type": "stream",
     "text": [
      "how old are you33\n",
      "what is your name?manja\n",
      "Your are 33 years old and your name is manja\n",
      "33 is a great time in life.\n"
     ]
    }
   ],
   "source": [
    "age = int(input('how old are you'))\n",
    "name = input('what is your name?')\n",
    "\n",
    "result_string = \"Your are {} years old and your name is {}\".format(age,name)\n",
    "print(result_string)\n",
    "\n",
    "result_again = f\"{age} is a great time in life.\"\n",
    "print(result_again)\n",
    "\n"
   ]
  },
  {
   "cell_type": "markdown",
   "metadata": {},
   "source": [
    "##### Old Way (python 2)"
   ]
  },
  {
   "cell_type": "code",
   "execution_count": 38,
   "metadata": {},
   "outputs": [
    {
     "name": "stdout",
     "output_type": "stream",
     "text": [
      "You are 33 years old\n"
     ]
    }
   ],
   "source": [
    "result_string2 = \"You are %s years old\" %age\n",
    "print(result_string2)"
   ]
  },
  {
   "cell_type": "markdown",
   "metadata": {},
   "source": [
    "# In-Class Exercise 1 <br>\n",
    "<p>Create a format statement that asks for a car's color, year, make, model and prints out the results</p>"
   ]
  },
  {
   "cell_type": "code",
   "execution_count": 41,
   "metadata": {},
   "outputs": [
    {
     "name": "stdout",
     "output_type": "stream",
     "text": [
      "What color is your car?blue\n",
      "What year is your car?2008\n",
      "What make is your car?Jeep\n",
      "What model is your car?Liberty\n",
      "Your car is a blue 2008 Jeep Liberty.\n"
     ]
    }
   ],
   "source": [
    "color = input(\"What color is your car?\")\n",
    "year = int(input(\"What year is your car?\"))\n",
    "make = input(\"What make is your car?\")\n",
    "model = input(\"What model is your car?\")\n",
    "\n",
    "car = f\"Your car is a {color} {year} {make} {model}.\"\n",
    "print(car)"
   ]
  },
  {
   "cell_type": "markdown",
   "metadata": {},
   "source": [
    "### If Statements"
   ]
  },
  {
   "cell_type": "code",
   "execution_count": 43,
   "metadata": {},
   "outputs": [
    {
     "name": "stdout",
     "output_type": "stream",
     "text": [
      "equal values\n"
     ]
    }
   ],
   "source": [
    "# Operators: >, <, ==, !=, <=, >=\n",
    "# Truth Tree\n",
    "# T && F = F (true and false)\n",
    "# T && T = T \n",
    "# T // F = T  (true or false)\n",
    "# F // T = T \n",
    "# F // F = F \n",
    "\n",
    "\n",
    "num1 = 5 \n",
    "num2 = 5 \n",
    "\n",
    "# if\n",
    "# elif\n",
    "# else\n",
    "\n",
    "\n",
    "\n",
    "if num2 == num1 and num1 == 6:\n",
    "    print(\"Yay!\") \n",
    "elif num2 == 7:  \n",
    "    print(\"That's a 7, Baby\")\n",
    "elif num2 == num1:\n",
    "     print('equal values')\n",
    "else:\n",
    "    print(\"That is not a number we're looking for.\")\n",
    "    \n",
    "    \n",
    "    "
   ]
  },
  {
   "cell_type": "markdown",
   "metadata": {},
   "source": [
    "##### 'is' keyword"
   ]
  },
  {
   "cell_type": "code",
   "execution_count": null,
   "metadata": {
    "scrolled": true
   },
   "outputs": [],
   "source": [
    "# use the is keyword checking for same / similar objects (location) not same value\n",
    "\n",
    "num3 = 90\n",
    "\n",
    "if num3 == 90:\n",
    "    print(\"That'll do it!\")\n",
    "    \n",
    "num4 = 90\n",
    "\n",
    "if num3 is num4:\n",
    "    print(\"Super Duper!\")\n",
    "    \n",
    "    \n",
    "    "
   ]
  },
  {
   "cell_type": "markdown",
   "metadata": {},
   "source": [
    "##### 'in' keyword"
   ]
  },
  {
   "cell_type": "code",
   "execution_count": 45,
   "metadata": {},
   "outputs": [
    {
     "name": "stdout",
     "output_type": "stream",
     "text": [
      "Beautiful!\n",
      "It's here!\n"
     ]
    }
   ],
   "source": [
    "# check if a character is in a string \n",
    "\n",
    "char_name = \"Boba Fett\"\n",
    "\n",
    "if \"b\" in char_name:\n",
    "    print(\"Beautiful!\")\n",
    "\n",
    "else:\n",
    "    print(\"Oh no, that's not there!\")\n",
    "    \n",
    "if \"f\" in char_name.lower():\n",
    "    print(\"It's here!\")\n",
    "else: \n",
    "    print(\"NOPE!\")\n",
    "    "
   ]
  },
  {
   "cell_type": "markdown",
   "metadata": {},
   "source": [
    "##### 'not in' keyword'"
   ]
  },
  {
   "cell_type": "code",
   "execution_count": 48,
   "metadata": {},
   "outputs": [
    {
     "name": "stdout",
     "output_type": "stream",
     "text": [
      "This is not Saaaanic.\n"
     ]
    }
   ],
   "source": [
    "sega_char = \"Sonic\"\n",
    "sega_char2 =\"Sanic\"\n",
    "\n",
    "if \"a\" not in sega_char:\n",
    "    print(\"This is not Saaaanic.\")\n",
    "    \n",
    "else:\n",
    "    print(\"This is Saaaanic.\")\n"
   ]
  },
  {
   "cell_type": "markdown",
   "metadata": {},
   "source": [
    "# In-Class Exercise 2 <br>\n",
    "<p>Ask user for input, check to see if the letter 'p' is in the input</p>\n",
    "<p>Check for case sensitivity</p>\n"
   ]
  },
  {
   "cell_type": "code",
   "execution_count": 52,
   "metadata": {},
   "outputs": [
    {
     "name": "stdout",
     "output_type": "stream",
     "text": [
      "What is your first name?Manja\n",
      "There is no 'p' in your first name.\n",
      "What is your last name?Wilson\n",
      "There is no 'p' in your last name.\n"
     ]
    }
   ],
   "source": [
    "first_name = input(\"What is your first name?\")\n",
    "\n",
    "if \"p\" in first_name.lower():\n",
    "    print(\"There is a 'p' in your first name.\")\n",
    "    \n",
    "else: \n",
    "    print(\"There is no 'p' in your first name.\")\n",
    "    \n",
    "last_name = input(\"What is your last name?\")\n",
    "\n",
    "if \"p\" not in last_name.lower():\n",
    "    print(\"There is no 'p' in your last name.\")\n",
    "    \n",
    "else:\n",
    "    print(\"There is a 'p' in your last name.\")"
   ]
  },
  {
   "cell_type": "markdown",
   "metadata": {},
   "source": [
    "## Using 'and'/'or' with If Statements"
   ]
  },
  {
   "cell_type": "code",
   "execution_count": null,
   "metadata": {},
   "outputs": [],
   "source": [
    "num1 = 15\n",
    "num2 = 3\n",
    "num3 = 10\n",
    "num4 = 3\n",
    "\n",
    "if num1 / 5 == num2 and num3 - 7 == num2:\n",
    "    print(\"True and true\")\n",
    "else:\n",
    "    print(\"One of those statements was false\")\n",
    "    \n",
    "\n",
    "if num1 > num2 or num3 == num4:\n",
    "    print(\"True and false\")\n",
    "    \n",
    "else:\n",
    "    print(\"Both of those statements are false\")\n",
    "    \n",
    "    \n"
   ]
  },
  {
   "cell_type": "markdown",
   "metadata": {},
   "source": [
    "### Elif Statements"
   ]
  },
  {
   "cell_type": "code",
   "execution_count": 54,
   "metadata": {},
   "outputs": [
    {
     "name": "stdout",
     "output_type": "stream",
     "text": [
      "Guten Morgen, Alex!\n"
     ]
    }
   ],
   "source": [
    "# if...\n",
    "# elif...\n",
    "# elif...\n",
    "# else...\n",
    "\n",
    "first_name= \"Alex\"\n",
    "if first_name == \"Smith\":\n",
    "    print(\"That's a weird first name!\")\n",
    "    \n",
    "elif first_name == \"Max\":\n",
    "    print(\"Ahh, yes, Max is indeed a first name.\")\n",
    "    \n",
    "elif first_name == \"Ryan\":\n",
    "    print(\"Hello, Ryan!\")\n",
    "    \n",
    "elif first_name == \"Alex\":\n",
    "    print(\"Guten Morgen, Alex!\")\n",
    "    \n",
    "else:\n",
    "    print(\"That's not a name I care about.\")\n",
    "    "
   ]
  },
  {
   "cell_type": "markdown",
   "metadata": {},
   "source": [
    "### Else Statements"
   ]
  },
  {
   "cell_type": "code",
   "execution_count": 56,
   "metadata": {},
   "outputs": [
    {
     "name": "stdout",
     "output_type": "stream",
     "text": [
      "The number is not 15 or 20, it's 112.\n"
     ]
    }
   ],
   "source": [
    "number = 112\n",
    "\n",
    "if number == 20:\n",
    "    print(number)\n",
    "elif number == 15:\n",
    "    print(number)\n",
    "else:\n",
    "    print(f\"The number is not 15 or 20, it's {number}.\")\n",
    "          "
   ]
  },
  {
   "cell_type": "markdown",
   "metadata": {},
   "source": [
    "### String Manipulation"
   ]
  },
  {
   "cell_type": "markdown",
   "metadata": {},
   "source": [
    "#### .lstrip()"
   ]
  },
  {
   "cell_type": "code",
   "execution_count": 58,
   "metadata": {
    "scrolled": true
   },
   "outputs": [
    {
     "name": "stdout",
     "output_type": "stream",
     "text": [
      "     Mary\n",
      "Mary\n"
     ]
    }
   ],
   "source": [
    "name = \"     Mary\"\n",
    "print(name)\n",
    "print(name.lstrip())\n",
    "\n"
   ]
  },
  {
   "cell_type": "markdown",
   "metadata": {},
   "source": [
    "#### .rstrip()"
   ]
  },
  {
   "cell_type": "code",
   "execution_count": 59,
   "metadata": {},
   "outputs": [
    {
     "name": "stdout",
     "output_type": "stream",
     "text": [
      "Luke   \n",
      "Luke\n"
     ]
    }
   ],
   "source": [
    "# same for right side \n",
    "\n",
    "name = \"Luke   \"\n",
    "\n",
    "print(name)\n",
    "print(name.rstrip())"
   ]
  },
  {
   "cell_type": "markdown",
   "metadata": {},
   "source": [
    "#### .strip()"
   ]
  },
  {
   "cell_type": "code",
   "execution_count": 62,
   "metadata": {},
   "outputs": [
    {
     "name": "stdout",
     "output_type": "stream",
     "text": [
      "    Chewy   \n",
      "Chewy\n",
      "Han\n",
      "rod\n"
     ]
    }
   ],
   "source": [
    "# same for both sides \n",
    "\n",
    "name = \"    Chewy   \"\n",
    "print(name)\n",
    "print(name.strip())\n",
    "\n",
    "name2 = \"   Han\"\n",
    "print(name2.strip())\n",
    "\n",
    "\n",
    "# .replace\n",
    "\n",
    "name = \"rod,\"\n",
    "\n",
    "name = name.replace(\",\",\"\")\n",
    "print(name)"
   ]
  },
  {
   "cell_type": "markdown",
   "metadata": {},
   "source": [
    "#### .title()"
   ]
  },
  {
   "cell_type": "code",
   "execution_count": 64,
   "metadata": {},
   "outputs": [
    {
     "name": "stdout",
     "output_type": "stream",
     "text": [
      "John\n"
     ]
    }
   ],
   "source": [
    "name = \"john\" \n",
    "print(name.title())"
   ]
  },
  {
   "cell_type": "markdown",
   "metadata": {},
   "source": [
    "#### .upper()"
   ]
  },
  {
   "cell_type": "code",
   "execution_count": 65,
   "metadata": {},
   "outputs": [
    {
     "name": "stdout",
     "output_type": "stream",
     "text": [
      "BOB\n"
     ]
    }
   ],
   "source": [
    "name = \"Bob\"\n",
    "print(name.upper())"
   ]
  },
  {
   "cell_type": "markdown",
   "metadata": {},
   "source": [
    "#### .lower()"
   ]
  },
  {
   "cell_type": "code",
   "execution_count": 66,
   "metadata": {
    "scrolled": true
   },
   "outputs": [
    {
     "name": "stdout",
     "output_type": "stream",
     "text": [
      "lisa\n"
     ]
    }
   ],
   "source": [
    "name = \"LISA\"\n",
    "print(name.lower())\n"
   ]
  },
  {
   "cell_type": "markdown",
   "metadata": {},
   "source": [
    "### String Exercise"
   ]
  },
  {
   "cell_type": "markdown",
   "metadata": {},
   "source": [
    "Have a user input a name. Return the name with all white space removed and each first letter capitalized."
   ]
  },
  {
   "cell_type": "code",
   "execution_count": 67,
   "metadata": {
    "scrolled": true
   },
   "outputs": [
    {
     "name": "stdout",
     "output_type": "stream",
     "text": [
      "What is your first name?Manja\n",
      "What is your last name?   wilson\n",
      "Your name is Manja Wilson.\n"
     ]
    }
   ],
   "source": [
    "first_name = input(\"What is your first name?\")\n",
    "last_name = input(\"What is your last name?\")\n",
    "print(f\"Your name is {first_name.strip().title()} {last_name.strip().title()}.\")"
   ]
  },
  {
   "cell_type": "markdown",
   "metadata": {},
   "source": [
    "### Built-In Functions"
   ]
  },
  {
   "cell_type": "markdown",
   "metadata": {},
   "source": [
    "##### len()"
   ]
  },
  {
   "cell_type": "code",
   "execution_count": 69,
   "metadata": {},
   "outputs": [
    {
     "name": "stdout",
     "output_type": "stream",
     "text": [
      "3\n",
      "3\n",
      "6\n"
     ]
    }
   ],
   "source": [
    "name = \"Max\"\n",
    "\n",
    "length_of_name = len(name)\n",
    "print(length_of_name)\n",
    "\n",
    "print(len(name))\n",
    "\n",
    "my_list = [0,1,2,3,4,5]\n",
    "print(len(my_list))"
   ]
  },
  {
   "cell_type": "markdown",
   "metadata": {},
   "source": [
    "##### help()"
   ]
  },
  {
   "cell_type": "code",
   "execution_count": null,
   "metadata": {},
   "outputs": [],
   "source": [
    "# gives a tooltip on a python build-in function"
   ]
  },
  {
   "cell_type": "markdown",
   "metadata": {},
   "source": [
    "##### isinstance()"
   ]
  },
  {
   "cell_type": "code",
   "execution_count": 73,
   "metadata": {},
   "outputs": [
    {
     "name": "stdout",
     "output_type": "stream",
     "text": [
      "False\n",
      "This is a float.\n",
      "How old are you?ten\n"
     ]
    }
   ],
   "source": [
    "# check a variable what type of data type it belongs to\n",
    "# isisnstance (var, type)\n",
    "\n",
    "print(isinstance(4.5,int))\n",
    "\n",
    "if isinstance(4.5,float):\n",
    "    print(\"This is a float.\")\n",
    "else:\n",
    "    print(\"This is not a float.\")\n",
    "\n",
    "    \n",
    "age = input(\"How old are you?\")\n",
    "\n",
    "if isinstance(age,int):\n",
    "    print(age)\n",
    "    "
   ]
  },
  {
   "cell_type": "markdown",
   "metadata": {},
   "source": [
    "##### abs()"
   ]
  },
  {
   "cell_type": "code",
   "execution_count": 74,
   "metadata": {},
   "outputs": [
    {
     "name": "stdout",
     "output_type": "stream",
     "text": [
      "5\n",
      "10\n",
      "8\n"
     ]
    }
   ],
   "source": [
    "# / 5 /\n",
    "# distance to zero\n",
    "\n",
    "print(abs(-5))\n",
    "\n",
    "print(abs(10))\n",
    "\n",
    "print(abs(5-13))\n"
   ]
  },
  {
   "cell_type": "markdown",
   "metadata": {},
   "source": [
    "### Try and Except"
   ]
  },
  {
   "cell_type": "code",
   "execution_count": 81,
   "metadata": {},
   "outputs": [
    {
     "name": "stdout",
     "output_type": "stream",
     "text": [
      "Guess a number!ten\n",
      "That did not work, Please change your input to a number!\n"
     ]
    }
   ],
   "source": [
    "# use this whenever you expect to encounter bugs so that the error doesn't cause the program to stop\n",
    "# logging graceful error messages to gently nudge the user in the right direction\n",
    "\n",
    "try:\n",
    "    number_test = 0\n",
    "    input_num = int(input(\"Guess a number!\"))\n",
    "    if input_num != number_test:\n",
    "        input_num = input_num + number_test\n",
    "        print(\"Your number is: \" + str(input_num))\n",
    "    else:\n",
    "        print(\"Your number is: \" + str(input_num))\n",
    "        \n",
    "        \n",
    "except:\n",
    "    print(\"That did not work, Please change your input to a number!\")\n",
    "    "
   ]
  },
  {
   "cell_type": "code",
   "execution_count": 95,
   "metadata": {},
   "outputs": [
    {
     "name": "stdout",
     "output_type": "stream",
     "text": [
      "Guess a number!ten\n",
      "That did not work, Please change your input to a number!\n"
     ]
    }
   ],
   "source": [
    "try:\n",
    "    number_test = 0\n",
    "    input_num = int(input(\"Guess a number!\"))\n",
    "    if input_num != number_test:\n",
    "        input_num = input_num + number_test\n",
    "        print(\"Your number is: \" + str(input_num))\n",
    "\n",
    "except:\n",
    "    print(\"That did not work, Please change your input to a number!\")"
   ]
  },
  {
   "cell_type": "markdown",
   "metadata": {},
   "source": [
    "## Exercise #1 <br>\n",
    "<p>Accept two user ages as inputs and give us the difference between them. (The Answer should always be a positive output)</p>"
   ]
  },
  {
   "cell_type": "code",
   "execution_count": 77,
   "metadata": {},
   "outputs": [
    {
     "name": "stdout",
     "output_type": "stream",
     "text": [
      "How old are you?8\n",
      "How old are you?12\n",
      "User 1 and user 2 are 4 years apart in age.\n"
     ]
    }
   ],
   "source": [
    "age_user_1 = input(\"How old are you?\")\n",
    "\n",
    "age_user_2 = input(\"How old are you?\")\n",
    "\n",
    "difference = abs(int(age_user_1) - int(age_user_2))\n",
    "\n",
    "print(f\"User 1 and user 2 are {difference} years apart in age.\")\n",
    "\n",
    "        \n",
    "        \n"
   ]
  },
  {
   "cell_type": "markdown",
   "metadata": {},
   "source": [
    "## Exercise #2 \n",
    "<p>Accept 3 user inputs for variables named noun, verb and adjective. Print out a formatted string using the outputs.</p>"
   ]
  },
  {
   "cell_type": "code",
   "execution_count": 83,
   "metadata": {},
   "outputs": [
    {
     "name": "stdout",
     "output_type": "stream",
     "text": [
      "Please give me a noun.dog\n",
      "please give me a verb.bark\n",
      "Please give me an adjective.annoying\n",
      "The dog likes to bark. It's really annoying!\n"
     ]
    }
   ],
   "source": [
    "noun = input(\"Please give me a noun.\")\n",
    "verb = input(\"please give me a verb.\")\n",
    "adjective = input(\"Please give me an adjective.\")\n",
    "\n",
    "print(f\"The {noun} likes to {verb}. It's really {adjective}!\")"
   ]
  },
  {
   "cell_type": "markdown",
   "metadata": {},
   "source": [
    "## Exercise #3 <br>\n",
    "<p>Take in a users input for their age, if they are younger than 18 print kids, if they're 18 to 65 print adults, else print seniors</p>"
   ]
  },
  {
   "cell_type": "code",
   "execution_count": 87,
   "metadata": {},
   "outputs": [
    {
     "name": "stdout",
     "output_type": "stream",
     "text": [
      "How old are you?12\n",
      "kids\n"
     ]
    }
   ],
   "source": [
    "age = input(\"How old are you?\")\n",
    "age = int(age)\n",
    "\n",
    "if age < 18:\n",
    "    print(\"kids\")\n",
    "elif age < 65:\n",
    "    print(\"adults\")\n",
    "else:\n",
    "    print(\"seniors\")"
   ]
  },
  {
   "cell_type": "markdown",
   "metadata": {},
   "source": [
    "## Exercise #4\n",
    "<p>Take in a number from a user input output the number squared.</p>"
   ]
  },
  {
   "cell_type": "code",
   "execution_count": 90,
   "metadata": {},
   "outputs": [
    {
     "name": "stdout",
     "output_type": "stream",
     "text": [
      "Please give me a number.5\n",
      "25\n"
     ]
    }
   ],
   "source": [
    "number = input(\"Please give me a number.\")\n",
    "number = int(number)**2 \n",
    "print(number)"
   ]
  },
  {
   "cell_type": "markdown",
   "metadata": {},
   "source": [
    "## Exercise #5\n",
    "<p>Check the below variables' length. If the length of the word is greater than 5 output True, if it is less than 5, output False<p>\n"
   ]
  },
  {
   "cell_type": "code",
   "execution_count": 92,
   "metadata": {},
   "outputs": [
    {
     "name": "stdout",
     "output_type": "stream",
     "text": [
      "True\n",
      "True\n",
      "False\n",
      "True\n",
      "False\n"
     ]
    }
   ],
   "source": [
    "word1 = \"panini\"\n",
    "word2 = \"bulbasaur\"\n",
    "word3 = \"pie\"\n",
    "word4 = \"dolphin\"\n",
    "word5 = \"dog\"\n",
    "\n",
    "def word_length(word):\n",
    "    if len(word) > 5:\n",
    "        print(\"True\")\n",
    "    elif len(word) < 5:\n",
    "        print(\"False\")\n",
    "        \n",
    "word_length(word1)\n",
    "word_length(word2)\n",
    "word_length(word3)\n",
    "word_length(word4)\n",
    "word_length(word5)\n"
   ]
  }
 ],
 "metadata": {
  "kernelspec": {
   "display_name": "Python 3 (ipykernel)",
   "language": "python",
   "name": "python3"
  },
  "language_info": {
   "codemirror_mode": {
    "name": "ipython",
    "version": 3
   },
   "file_extension": ".py",
   "mimetype": "text/x-python",
   "name": "python",
   "nbconvert_exporter": "python",
   "pygments_lexer": "ipython3",
   "version": "3.10.10"
  }
 },
 "nbformat": 4,
 "nbformat_minor": 2
}
